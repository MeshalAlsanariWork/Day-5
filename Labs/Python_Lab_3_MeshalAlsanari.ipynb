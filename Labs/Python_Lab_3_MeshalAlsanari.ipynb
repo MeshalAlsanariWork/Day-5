{
 "cells": [
  {
   "cell_type": "markdown",
   "metadata": {},
   "source": [
    "# Python_Lab_3\n"
   ]
  },
  {
   "cell_type": "markdown",
   "metadata": {},
   "source": [
    "### Task 1\n",
    "- Write a function named **'create_student_records'** that takes a list of tuples. Each tuple contains a student's name and their scores in three subjects. The function should return a list of dictionaries, where each dictionary represents a student with keys: name, subject1, subject2, subject3. Use list comprehension to create the list of dictionaries."
   ]
  },
  {
   "cell_type": "code",
   "execution_count": 178,
   "metadata": {},
   "outputs": [
    {
     "name": "stdout",
     "output_type": "stream",
     "text": [
      "[{'Name': 'Omar', 'E': 76, 'Programming': 42, 'Data': 93}, {'Name': 'Ahmed', 'E': 91, 'Programming': 88, 'Data': 76}, {'Name': 'Zaid', 'E': 74, 'Programming': 93, 'Data': 76}, {'Name': 'Khaled', 'E': 49, 'Programming': 31, 'Data': 94}, {'Name': 'Meshal', 'E': 94, 'Programming': 81, 'Data': 83}]\n"
     ]
    }
   ],
   "source": [
    "studentsFinalName = []\n",
    "def create_student_records(Data):\n",
    "    return [{\"Name\": name, subjects[0]: scores[0], subjects[1]: scores[1], subjects[2]: scores[2]} for name, scores, subjects in Data]\n",
    "\n",
    "studentsData = [\n",
    "    (\"Omar\", [76, 42, 93], [\"E\", \"Programming\", \"Data\"]),\n",
    "    (\"Ahmed\", [91, 88, 76], [\"E\", \"Programming\", \"Data\"]),\n",
    "    (\"Zaid\", [74, 93, 76], [\"E\", \"Programming\", \"Data\"]),\n",
    "    (\"Khaled\", [49, 31, 94], [\"E\", \"Programming\", \"Data\"]),\n",
    "    (\"Meshal\", [94, 81, 83], [\"E\", \"Programming\", \"Data\"])\n",
    "]\n",
    "\n",
    "studentsFinalName = create_student_records(studentsData)\n",
    "\n",
    "print(studentsFinalName)\n"
   ]
  },
  {
   "cell_type": "markdown",
   "metadata": {},
   "source": [
    "### Task 2\n",
    "- Write a function named **'filter_and_sort_students'** that takes the list of dictionaries from Question 1 and returns a sorted list of student names who have an average score of 80 or more across all subjects. Sort the names in alphabetical order."
   ]
  },
  {
   "cell_type": "code",
   "execution_count": 179,
   "metadata": {},
   "outputs": [
    {
     "name": "stdout",
     "output_type": "stream",
     "text": [
      "['Ahmed', 'Meshal', 'Zaid']\n"
     ]
    }
   ],
   "source": [
    "\n",
    "def filter_and_sort_students(data):\n",
    "    sortList = []\n",
    "\n",
    "    for x in range(0,5):\n",
    "        name = data[x][\"Name\"]\n",
    "        avg = (data[x][\"E\"] + data[x][\"Programming\"] + data[x][\"Data\"])/ 3\n",
    "        if avg >= 80:\n",
    "            sortList.append(name)\n",
    "            \n",
    "    sortList.sort()\n",
    "    print(sortList)\n",
    "\n",
    "\n",
    "filter_and_sort_students(studentsFinalName)"
   ]
  },
  {
   "cell_type": "markdown",
   "metadata": {},
   "source": [
    "### Task 3\n",
    "- Write a function named **'get_product_info'** that prompts the user to enter information about a product. The function should ask for the product name, product price, and product quantity. If the user enters an invalid input (e.g., a non-numeric value for the price or quantity), the function should handle the error and prompt the user to enter the value again. Return a dictionary containing the product information."
   ]
  },
  {
   "cell_type": "code",
   "execution_count": 2,
   "metadata": {},
   "outputs": [
    {
     "name": "stderr",
     "output_type": "stream",
     "text": [
      "<>:8: SyntaxWarning: invalid escape sequence '\\I'\n",
      "<>:8: SyntaxWarning: invalid escape sequence '\\I'\n",
      "C:\\Users\\ish3e\\AppData\\Local\\Temp\\ipykernel_18844\\3256237542.py:8: SyntaxWarning: invalid escape sequence '\\I'\n",
      "  print(\"\\Invalid input, please enter a valid str name, int price, int quantity.\")\n"
     ]
    },
    {
     "name": "stdout",
     "output_type": "stream",
     "text": [
      "\\Invalid input, please enter a valid str name, int price, int quantity.\n",
      "\\Invalid input, please enter a valid str name, int price, int quantity.\n",
      "\\Invalid input, please enter a valid str name, int price, int quantity.\n",
      "Item name is not found\n"
     ]
    }
   ],
   "source": [
    "while True:\n",
    "    try:\n",
    "        name, price, quantity = input(\"Enter the name of product, price, and quantity:\").split()\n",
    "        price = int(price)\n",
    "        quantity = int(quantity)\n",
    "        break  \n",
    "    except ValueError:\n",
    "        print(\"Invalid input, please enter a valid str name, int price, int quantity.\")\n",
    "\n",
    "products = {\n",
    "    \"X\": {\"Price\": 1200, \"Quantity\": 10},\n",
    "    \"Smartphone\": {\"Price\": 800, \"Quantity\": 25},\n",
    "    \"Headphones\": {\"Price\": 150, \"Quantity\": 50},\n",
    "    \"Smartwatch\": {\"Price\": 250, \"Quantity\": 30},\n",
    "    \"Tablet\": {\"Price\": 600, \"Quantity\": 15}\n",
    "}\n",
    "\n",
    "def get_product_info(name, price, quantity):\n",
    "    if name in products:\n",
    "        num = products[name][\"Price\"]\n",
    "        pro = products[name][\"Quantity\"]\n",
    "        if price == num and quantity == pro:\n",
    "            print(f\"The price, quantity of {name} is: {products[name]}\")\n",
    "            return products[name]\n",
    "        else:\n",
    "            print(\"Price or Quantity is not the same\")\n",
    "    else:\n",
    "        print(\"Item name is not found\")\n",
    "\n",
    "product_info = get_product_info(name, price, quantity)"
   ]
  },
  {
   "cell_type": "markdown",
   "metadata": {},
   "source": [
    "### Task 4\n",
    "- Write a function named **'get_even_numbers'** that takes a list of integers and returns a list of even numbers using list comprehension."
   ]
  },
  {
   "cell_type": "code",
   "execution_count": 192,
   "metadata": {},
   "outputs": [
    {
     "name": "stdout",
     "output_type": "stream",
     "text": [
      "[30, 120, 32, 50, 12]\n"
     ]
    }
   ],
   "source": [
    "list1 = [1,30,120,32,50,12,43]\n",
    "\n",
    "def get_even_numbers(Data):\n",
    "    x = [x for x in Data if x % 2 == 0]\n",
    "    return x\n",
    "\n",
    "x1 = get_even_numbers(list1)\n",
    "\n",
    "print(x1)\n"
   ]
  },
  {
   "cell_type": "markdown",
   "metadata": {},
   "source": [
    "### Task 5\n",
    "- Write a function named **'pair_elements'** that takes two lists of equal length as parameters and returns a list of tuples, where each tuple contains corresponding elements from the two lists. Use the zip function to achieve this."
   ]
  },
  {
   "cell_type": "code",
   "execution_count": 206,
   "metadata": {},
   "outputs": [
    {
     "name": "stdout",
     "output_type": "stream",
     "text": [
      "((1, 'A'), (30, 'c'), (120, 'z'), (32, 's'), (50, 'e'))\n"
     ]
    }
   ],
   "source": [
    "newList = []\n",
    "\n",
    "def pair_elements(x,y):\n",
    "    return tuple(zip(x,y))\n",
    "\n",
    "list1 = [1,30,120,32,50]\n",
    "list2 = [\"A\",\"c\",\"z\",\"s\",\"e\"]\n",
    "\n",
    "x = pair_elements(list1,list2)\n",
    "print(x)"
   ]
  },
  {
   "cell_type": "markdown",
   "metadata": {},
   "source": [
    "### Task 6\n",
    "- Write a function named **'square_dict_lambda'** that takes a list of integers and returns a dictionary where the keys are the integers and the values are their squares. Use a lambda function within a dictionary comprehension to achieve this."
   ]
  },
  {
   "cell_type": "code",
   "execution_count": 208,
   "metadata": {},
   "outputs": [
    {
     "name": "stdout",
     "output_type": "stream",
     "text": [
      "{1: 1, 30: 900, 120: 14400, 32: 1024, 50: 2500}\n"
     ]
    }
   ],
   "source": [
    "list1 = [1,30,120,32,50]\n",
    "def square_dict_lambda(data):\n",
    "        return {x: (lambda n: n ** 2)(x) for x in data} \n",
    "\n",
    "\n",
    "x=square_dict_lambda(list1)\n",
    "print(x)\n",
    "    "
   ]
  }
 ],
 "metadata": {
  "kernelspec": {
   "display_name": "base",
   "language": "python",
   "name": "python3"
  },
  "language_info": {
   "codemirror_mode": {
    "name": "ipython",
    "version": 3
   },
   "file_extension": ".py",
   "mimetype": "text/x-python",
   "name": "python",
   "nbconvert_exporter": "python",
   "pygments_lexer": "ipython3",
   "version": "3.12.4"
  }
 },
 "nbformat": 4,
 "nbformat_minor": 4
}
